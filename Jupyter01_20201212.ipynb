{
 "cells": [
  {
   "cell_type": "code",
   "execution_count": 2,
   "metadata": {},
   "outputs": [],
   "source": [
    "# 阿里天池新人赛案例之一\n",
    "# “Pandas揭秘美国选民的总统喜好”\n",
    "\n",
    "import pandas as pd\n",
    "import numpy as np\n",
    "import matplotlib.pyplot as plt\n",
    "import matplotlib\n",
    "import math"
   ]
  },
  {
   "cell_type": "code",
   "execution_count": 3,
   "metadata": {},
   "outputs": [],
   "source": [
    "# 设置中文字体\n",
    "font = {'family': 'MicroSoft YaHei',\n",
    "        'weight': 'bold',\n",
    "        'size': 10}\n",
    "matplotlib.rc(\"font\", **font)"
   ]
  },
  {
   "cell_type": "code",
   "execution_count": 4,
   "metadata": {},
   "outputs": [],
   "source": [
    "# 候选人信息\n",
    "weball = pd.read_csv(r'd:\\TianChi_DataSet\\weball20.txt',\n",
    "                     sep='|',\n",
    "                     names=['CAND_ID', 'CAND_NAME', 'CAND_ICI', 'PTY_CD', 'CAND_PTY_AFFILIATION', 'TTL_RECEIPTS',\n",
    "                            'TRANS_FROM_AUTH', 'TTL_DISB', 'TRANS_TO_AUTH', 'COH_BOP', 'COH_COP', 'CAND_CONTRIB',\n",
    "                            'CAND_LOANS', 'OTHER_LOANS', 'CAND_LOAN_REPAY', 'OTHER_LOAN_REPAY', 'DEBTS_OWED_BY',\n",
    "                            'TTL_INDIV_CONTRIB', 'CAND_OFFICE_ST', 'CAND_OFFICE_DISTRICT', 'SPEC_ELECTION', 'PRIM_ELECTION', 'RUN_ELECTION',\n",
    "                            'GEN_ELECTION', 'GEN_ELECTION_PRECENT', 'OTHER_POL_CMTE_CONTRIB', 'POL_PTY_CONTRIB',\n",
    "                            'CVG_END_DT', 'INDIV_REFUNDS', 'CMTE_REFUNDS'])"
   ]
  },
  {
   "cell_type": "code",
   "execution_count": 5,
   "metadata": {},
   "outputs": [],
   "source": [
    "# 候选人与委员会的联系信息\n",
    "ccl = pd.read_csv(r'd:\\TianChi_DataSet\\ccl.txt',\n",
    "                  sep='|',\n",
    "                  names=['CAND_ID', 'CAND_ELECTION_YR', 'FEC_ELECTION_YR',\n",
    "                         'CMTE_ID', 'CMTE_TP', 'CMTE_DSGN', 'LINKAGE_ID'])"
   ]
  },
  {
   "cell_type": "code",
   "execution_count": 6,
   "metadata": {},
   "outputs": [],
   "source": [
    "# 合并两表\n",
    "merge_w_c = pd.merge(ccl, weball)\n",
    "# 取得关键列\n",
    "data1 = pd.DataFrame(merge_w_c, columns=['CMTE_ID', 'CAND_ID', 'CAND_NAME', 'CAND_PTY_AFFILIATION'])"
   ]
  },
  {
   "cell_type": "code",
   "execution_count": 7,
   "metadata": {},
   "outputs": [
    {
     "name": "stderr",
     "output_type": "stream",
     "text": [
      "D:\\Anaconda\\lib\\site-packages\\IPython\\core\\interactiveshell.py:3071: DtypeWarning: Columns (10,15,18) have mixed types.Specify dtype option on import or set low_memory=False.\n",
      "  has_raised = await self.run_ast_nodes(code_ast.body, cell_name,\n"
     ]
    }
   ],
   "source": [
    "# 个人捐赠数据\n",
    "itcont = pd.read_csv(r'd:\\TianChi_DataSet\\itcont_2020_20200618_20200629.txt',\n",
    "                     sep='|',\n",
    "                     names=['CMTE_ID', 'AMNDT_IND', 'RPT_TP', 'TRANSACTION_PGI',\n",
    "                            'IMAGE_NUM', 'TRANSACTION_TP', 'ENTITY_TP', 'NAME', 'CITY',\n",
    "                            'STATE', 'ZIP_CODE', 'EMPLOYER', 'OCCUPATION', 'TRANSACTION_DT',\n",
    "                            'TRANSACTION_AMT', 'OTHER_ID', 'TRAN_ID', 'FILE_NUM', 'MEMO_CD',\n",
    "                            'MEMO_TEXT', 'SUB_ID'])"
   ]
  },
  {
   "cell_type": "code",
   "execution_count": 8,
   "metadata": {},
   "outputs": [],
   "source": [
    "merge_c_i = pd.merge(data1, itcont)\n",
    "data2 = pd.DataFrame(merge_c_i, columns=['CAND_NAME', 'NAME', 'STATE', 'EMPLOYER', 'OCCUPATION',\n",
    "                                           'TRANSACTION_AMT', 'TRANSACTION_DT', 'CAND_PTY_AFFILIATION'])"
   ]
  },
  {
   "cell_type": "code",
   "execution_count": 9,
   "metadata": {},
   "outputs": [],
   "source": [
    "data2['STATE'].fillna('NOT PROVIDED',inplace=True)\n",
    "data2['EMPLOYER'].fillna('NOT PROVIDED',inplace=True)\n",
    "data2['OCCUPATION'].fillna('NOT PROVIDED',inplace=True)"
   ]
  },
  {
   "cell_type": "code",
   "execution_count": null,
   "metadata": {},
   "outputs": [],
   "source": []
  },
  {
   "cell_type": "code",
   "execution_count": 10,
   "metadata": {},
   "outputs": [
    {
     "data": {
      "text/plain": [
       "0    6242020\n",
       "1    6202020\n",
       "2    6242020\n",
       "3    6232020\n",
       "4    6242020\n",
       "Name: TRANSACTION_DT, dtype: int64"
      ]
     },
     "execution_count": 10,
     "metadata": {},
     "output_type": "execute_result"
    }
   ],
   "source": [
    "data2['TRANSACTION_DT'].head()"
   ]
  },
  {
   "cell_type": "code",
   "execution_count": 11,
   "metadata": {},
   "outputs": [],
   "source": [
    "# 日期列的int类型转换为str类型，方便下面的处理\n",
    "data2['TRANSACTION_DT'] = data2['TRANSACTION_DT'].astype(str)"
   ]
  },
  {
   "cell_type": "code",
   "execution_count": null,
   "metadata": {},
   "outputs": [],
   "source": []
  },
  {
   "cell_type": "code",
   "execution_count": 12,
   "metadata": {},
   "outputs": [],
   "source": [
    "data2['TRANSACTION_DT'] = [i[3:7]+i[0]+i[1:3] for i in data2['TRANSACTION_DT'] ]"
   ]
  },
  {
   "cell_type": "code",
   "execution_count": 13,
   "metadata": {},
   "outputs": [],
   "source": [
    "# 选出拜登的数据\n",
    "biden = data2[data2['CAND_NAME']=='BIDEN, JOSEPH R JR']"
   ]
  },
  {
   "cell_type": "code",
   "execution_count": 14,
   "metadata": {},
   "outputs": [],
   "source": [
    "# 统计各州对拜登的捐款\n",
    "biden_state = biden.groupby('STATE').sum().sort_values(\"TRANSACTION_AMT\", ascending=False)"
   ]
  },
  {
   "cell_type": "code",
   "execution_count": null,
   "metadata": {},
   "outputs": [],
   "source": []
  },
  {
   "cell_type": "code",
   "execution_count": 15,
   "metadata": {},
   "outputs": [],
   "source": [
    "b=np.array(biden_state) #创建ndarray 对象\n",
    "number_b=len(b)   #支持拜州的数量"
   ]
  },
  {
   "cell_type": "code",
   "execution_count": 16,
   "metadata": {},
   "outputs": [],
   "source": [
    "# 选出特朗普的数据\n",
    "trump = data2[data2['CAND_NAME']=='TRUMP, DONALD J.']"
   ]
  },
  {
   "cell_type": "code",
   "execution_count": 17,
   "metadata": {},
   "outputs": [
    {
     "name": "stdout",
     "output_type": "stream",
     "text": [
      "55\n"
     ]
    }
   ],
   "source": [
    "trump_state = trump.groupby('STATE').sum().sort_values(\"TRANSACTION_AMT\", ascending=False)\n",
    "t=np.array(trump_state)  #创建ndarray 对象\n",
    "number_t=len(t)  #支持特朗州的数量\n",
    "print(number_t)"
   ]
  },
  {
   "cell_type": "code",
   "execution_count": 18,
   "metadata": {},
   "outputs": [],
   "source": [
    "#pivot_table作用是按州和捐赠数额聚合数据,index=['STATE']取出捐赠人所在的州，values=['TRANSACTION_AMT']取出捐赠人捐赠的数额，aggfunc='sum'计算相同州的总额\n",
    "by_state=pd.pivot_table(data2,index=['STATE'],values=['TRANSACTION_AMT'],aggfunc='sum')                                                                                                 \n",
    "number=len(by_state)  #州的数量"
   ]
  },
  {
   "cell_type": "code",
   "execution_count": 19,
   "metadata": {},
   "outputs": [
    {
     "data": {
      "text/html": [
       "<div>\n",
       "<style scoped>\n",
       "    .dataframe tbody tr th:only-of-type {\n",
       "        vertical-align: middle;\n",
       "    }\n",
       "\n",
       "    .dataframe tbody tr th {\n",
       "        vertical-align: top;\n",
       "    }\n",
       "\n",
       "    .dataframe thead th {\n",
       "        text-align: right;\n",
       "    }\n",
       "</style>\n",
       "<table border=\"1\" class=\"dataframe\">\n",
       "  <thead>\n",
       "    <tr style=\"text-align: right;\">\n",
       "      <th></th>\n",
       "      <th>TRANSACTION_AMT</th>\n",
       "    </tr>\n",
       "    <tr>\n",
       "      <th>STATE</th>\n",
       "      <th></th>\n",
       "    </tr>\n",
       "  </thead>\n",
       "  <tbody>\n",
       "    <tr>\n",
       "      <th>AA</th>\n",
       "      <td>2425</td>\n",
       "    </tr>\n",
       "    <tr>\n",
       "      <th>AE</th>\n",
       "      <td>13804</td>\n",
       "    </tr>\n",
       "    <tr>\n",
       "      <th>AK</th>\n",
       "      <td>299029</td>\n",
       "    </tr>\n",
       "    <tr>\n",
       "      <th>AL</th>\n",
       "      <td>766754</td>\n",
       "    </tr>\n",
       "    <tr>\n",
       "      <th>AP</th>\n",
       "      <td>1604</td>\n",
       "    </tr>\n",
       "  </tbody>\n",
       "</table>\n",
       "</div>"
      ],
      "text/plain": [
       "       TRANSACTION_AMT\n",
       "STATE                 \n",
       "AA                2425\n",
       "AE               13804\n",
       "AK              299029\n",
       "AL              766754\n",
       "AP                1604"
      ]
     },
     "execution_count": 19,
     "metadata": {},
     "output_type": "execute_result"
    }
   ],
   "source": [
    "by_state.head()"
   ]
  },
  {
   "cell_type": "code",
   "execution_count": 20,
   "metadata": {},
   "outputs": [],
   "source": [
    "# 从所有数据中取出支持拜的数据\n",
    "# 统计各职业对拜的捐款总数\n",
    "biden_occupation = biden.groupby('OCCUPATION').sum().sort_values(\"TRANSACTION_AMT\", ascending=False)\n",
    "e=np.array(biden_occupation)   #创建biden ndarray 对象\n",
    "\n",
    "# 从所有数据中取出支持特朗的数据\n",
    "# 统计各职业对特朗的捐款总数\n",
    "trump_occupation = trump.groupby('OCCUPATION').sum().sort_values(\"TRANSACTION_AMT\", ascending=False)  \n",
    "r=np.array(trump_occupation)    #创建trump ndarray 对象"
   ]
  },
  {
   "cell_type": "code",
   "execution_count": 21,
   "metadata": {},
   "outputs": [],
   "source": [
    "#pivot_table作用是按职业和捐赠数额聚合数据,index=['OCCUPATION']取出捐赠人所在的职业，values=['TRANSACTION_AMT']取出捐赠人捐赠的数额，aggfunc='sum'计算相同职业的总额\n",
    "by_occupation=pd.pivot_table(data2,index=['OCCUPATION'],values=['TRANSACTION_AMT'],aggfunc='sum')                                                                                                 \n",
    "number_j=len(by_occupation) #职业的总数量"
   ]
  },
  {
   "cell_type": "code",
   "execution_count": 22,
   "metadata": {},
   "outputs": [
    {
     "name": "stdout",
     "output_type": "stream",
     "text": [
      "州的总数:62\n",
      "支持拜登的州数量:62\n",
      "支持特朗的州数量:55\n",
      "职业的总数:18858\n",
      "支持拜登的职业数量：7480\n",
      "支持特朗的职业数量:3005\n"
     ]
    }
   ],
   "source": [
    "print('州的总数:{}'.format(number))\n",
    "print('支持拜登的州数量:{}'.format(number_b))\n",
    "print('支持特朗的州数量:{}'.format(number_t))\n",
    "\n",
    "print('职业的总数:{}'.format(number_j))\n",
    "print('支持拜登的职业数量：{}'.format(len(e)))\n",
    "print('支持特朗的职业数量:{}'.format(len(r)))"
   ]
  },
  {
   "cell_type": "code",
   "execution_count": 23,
   "metadata": {},
   "outputs": [
    {
     "data": {
      "text/html": [
       "<div>\n",
       "<style scoped>\n",
       "    .dataframe tbody tr th:only-of-type {\n",
       "        vertical-align: middle;\n",
       "    }\n",
       "\n",
       "    .dataframe tbody tr th {\n",
       "        vertical-align: top;\n",
       "    }\n",
       "\n",
       "    .dataframe thead th {\n",
       "        text-align: right;\n",
       "    }\n",
       "</style>\n",
       "<table border=\"1\" class=\"dataframe\">\n",
       "  <thead>\n",
       "    <tr style=\"text-align: right;\">\n",
       "      <th></th>\n",
       "      <th>TRANSACTION_AMT</th>\n",
       "    </tr>\n",
       "    <tr>\n",
       "      <th>TRANSACTION_DT</th>\n",
       "      <th></th>\n",
       "    </tr>\n",
       "  </thead>\n",
       "  <tbody>\n",
       "    <tr>\n",
       "      <th>2020618</th>\n",
       "      <td>869870</td>\n",
       "    </tr>\n",
       "    <tr>\n",
       "      <th>2020619</th>\n",
       "      <td>877837</td>\n",
       "    </tr>\n",
       "    <tr>\n",
       "      <th>2020620</th>\n",
       "      <td>722863</td>\n",
       "    </tr>\n",
       "    <tr>\n",
       "      <th>2020621</th>\n",
       "      <td>765920</td>\n",
       "    </tr>\n",
       "    <tr>\n",
       "      <th>2020622</th>\n",
       "      <td>1245295</td>\n",
       "    </tr>\n",
       "    <tr>\n",
       "      <th>2020623</th>\n",
       "      <td>2237940</td>\n",
       "    </tr>\n",
       "    <tr>\n",
       "      <th>2020624</th>\n",
       "      <td>1218119</td>\n",
       "    </tr>\n",
       "    <tr>\n",
       "      <th>2020625</th>\n",
       "      <td>924652</td>\n",
       "    </tr>\n",
       "  </tbody>\n",
       "</table>\n",
       "</div>"
      ],
      "text/plain": [
       "                TRANSACTION_AMT\n",
       "TRANSACTION_DT                 \n",
       "2020618                  869870\n",
       "2020619                  877837\n",
       "2020620                  722863\n",
       "2020621                  765920\n",
       "2020622                 1245295\n",
       "2020623                 2237940\n",
       "2020624                 1218119\n",
       "2020625                  924652"
      ]
     },
     "execution_count": 23,
     "metadata": {},
     "output_type": "execute_result"
    }
   ],
   "source": [
    "date_money_biden = pd.pivot_table(biden, index=['TRANSACTION_DT'], values=['TRANSACTION_AMT'], aggfunc='sum')\n",
    "date_money_biden.head(8)"
   ]
  },
  {
   "cell_type": "code",
   "execution_count": 24,
   "metadata": {},
   "outputs": [],
   "source": [
    "date_money_trump = pd.pivot_table(trump, index=['TRANSACTION_DT'], values=['TRANSACTION_AMT'], aggfunc='sum')"
   ]
  },
  {
   "cell_type": "code",
   "execution_count": 25,
   "metadata": {},
   "outputs": [],
   "source": [
    "x = date_money_biden.index"
   ]
  },
  {
   "cell_type": "code",
   "execution_count": 26,
   "metadata": {},
   "outputs": [],
   "source": [
    "y_biden = date_money_biden['TRANSACTION_AMT'].values\n",
    "y_trump = date_money_trump['TRANSACTION_AMT'].values"
   ]
  },
  {
   "cell_type": "code",
   "execution_count": 27,
   "metadata": {},
   "outputs": [],
   "source": [
    "y_1 = [sum(y_biden[0:i+1]) for i in range(0,12)]\n",
    "y_2 = [sum(y_trump[0:i+1]) for i in range(0,12)]"
   ]
  },
  {
   "cell_type": "code",
   "execution_count": 28,
   "metadata": {},
   "outputs": [
    {
     "data": {
      "image/png": "[encoded data removed]",
      "text/plain": [
       "<Figure size 432x288 with 1 Axes>"
      ]
     },
     "metadata": {
      "needs_background": "light"
     },
     "output_type": "display_data"
    }
   ],
   "source": [
    "plt.plot(x, y_1, label='Biden')\n",
    "plt.plot(x, y_2, label='Trump')\n",
    "plt.title('拜登和特朗普在6月18日-6月29日期间收到的捐款')\n",
    "plt.legend()\n",
    "plt.xticks(rotation=30)\n",
    "plt.show()"
   ]
  },
  {
   "cell_type": "markdown",
   "metadata": {},
   "source": [
    "- 使用香农公式和基尼系数预测拜登和特朗普的胜率\n",
    "- 拜登-->62州62支持\n",
    "-    -->18858职业7480支持\n",
    "- 特朗普-->62州55支持\n",
    "-     -->18858职业3005支持\n",
    "\n",
    "- -------信息熵计算公式---------\n",
    "$$\n",
    "entropy = -\\sum_{i=1}^{n}p(i)log_{2}^{p(i)}\n",
    "$$\n",
    "\n",
    "\n",
    "- 香农计算拜登胜率如下\n",
    "- entropy_b = -((62/62)*math.log((62/62),2)+(0/62)*math.log((0/62),2))\n",
    "- entropy=0\n",
    "- 拜登香农胜率1-0=100%\n",
    "\n",
    "- 香农计算特朗普胜率如下\n",
    "- entropy_t = -((55/62)*math.log((55/62),2)+(7/62)*math.log((7/62),2))"
   ]
  },
  {
   "cell_type": "code",
   "execution_count": 31,
   "metadata": {},
   "outputs": [
    {
     "data": {
      "text/plain": [
       "0.5086113313826897"
      ]
     },
     "execution_count": 31,
     "metadata": {},
     "output_type": "execute_result"
    }
   ],
   "source": [
    "entropy_t = -((55/62)*math.log((55/62),2)+(7/62)*math.log((7/62),2))\n",
    "entropy_t"
   ]
  },
  {
   "cell_type": "code",
   "execution_count": 33,
   "metadata": {},
   "outputs": [
    {
     "name": "stdout",
     "output_type": "stream",
     "text": [
      "biden 0.9689563831858323\n",
      "trump 0.6327494409557352\n"
     ]
    }
   ],
   "source": [
    "# Biden的州信息熵胜率1-0=100%\n",
    "# Trump的州信息熵胜率1-0.5086=49.14%\n",
    "\n",
    "# 下面计算两人职业信息熵胜率\n",
    "e_biden_occup = -((7480/18858)*math.log((7480/18858),2)+(11378/18858)*math.log((11378/18858),2))\n",
    "e_trump_occup = -((3005/18858)*math.log((3005/18858),2)+(15853/18858)*math.log((15853/18858),2))\n",
    "print('biden',e_biden_occup)\n",
    "print('trump',e_trump_occup)"
   ]
  },
  {
   "cell_type": "code",
   "execution_count": 35,
   "metadata": {},
   "outputs": [
    {
     "name": "stdout",
     "output_type": "stream",
     "text": [
      "数据预测biden当选总统胜率：98.0 %\n",
      "数据预测trump当选总统胜率：56.00 %\n"
     ]
    }
   ],
   "source": [
    "# 综合胜率\n",
    "bi = (1+0.96)/2\n",
    "tr = (0.49+0.63)/2\n",
    "print('数据预测biden当选总统胜率：'+str(bi*100),'%')\n",
    "print('数据预测trump当选总统胜率：'+str(tr*100)[0:5],'%')"
   ]
  }
 ],
 "metadata": {
  "kernelspec": {
   "display_name": "Python 3",
   "language": "python",
   "name": "python3"
  },
  "language_info": {
   "codemirror_mode": {
    "name": "ipython",
    "version": 3
   },
   "file_extension": ".py",
   "mimetype": "text/x-python",
   "name": "python",
   "nbconvert_exporter": "python",
   "pygments_lexer": "ipython3",
   "version": "3.8.3"
  }
 },
 "nbformat": 4,
 "nbformat_minor": 4
}
